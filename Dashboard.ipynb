{
 "cells": [
  {
   "cell_type": "code",
   "execution_count": 19,
   "metadata": {},
   "outputs": [],
   "source": [
    "import configparser\n",
    "import psycopg2\n",
    "import time"
   ]
  },
  {
   "cell_type": "code",
   "execution_count": 2,
   "metadata": {},
   "outputs": [],
   "source": [
    "config = configparser.ConfigParser()\n",
    "config.read('dwh.cfg')\n",
    "\n",
    "conn = psycopg2.connect(\"host={} dbname={} user={} password={} port={}\".format(*config['CLUSTER'].values()))\n",
    "cur = conn.cursor()"
   ]
  },
  {
   "cell_type": "code",
   "execution_count": 34,
   "metadata": {},
   "outputs": [],
   "source": [
    "def run_query(query):\n",
    "    time_start = time.time()\n",
    "    cur.execute(query)\n",
    "    conn.commit()\n",
    "    rows = cur.fetchall()\n",
    "    print(\"Query:\", end = \" \")\n",
    "    print(query)\n",
    "    print(\"Result:\", end = \" \")\n",
    "    for row in rows:\n",
    "        print(row)\n",
    "    print(\"Execution time:\", time.time() - time_start, '\\n')"
   ]
  },
  {
   "cell_type": "code",
   "execution_count": 37,
   "metadata": {},
   "outputs": [
    {
     "name": "stdout",
     "output_type": "stream",
     "text": [
      "Overview of Tables:\n",
      "Query: select count(*) from staging_events\n",
      "Result: (8056,)\n",
      "Execution time: 0.8502557277679443 \n",
      "\n",
      "Query: select count(*) from staging_songs\n",
      "Result: (14896,)\n",
      "Execution time: 0.9737410545349121 \n",
      "\n",
      "Query: select count(*) from songplays\n",
      "Result: (333,)\n",
      "Execution time: 0.921616792678833 \n",
      "\n",
      "Query: select count(*) from songs\n",
      "Result: (14896,)\n",
      "Execution time: 0.920811653137207 \n",
      "\n",
      "Query: select count(*) from users\n",
      "Result: (104,)\n",
      "Execution time: 0.8538589477539062 \n",
      "\n",
      "Query: select count(*) from artists\n",
      "Result: (10025,)\n",
      "Execution time: 0.9892339706420898 \n",
      "\n",
      "Query: select count(*) from time\n",
      "Result: (8023,)\n",
      "Execution time: 0.9215090274810791 \n",
      "\n"
     ]
    }
   ],
   "source": [
    "print(\"Overview of Tables:\")\n",
    "run_query('select count(*) from staging_events')\n",
    "run_query('select count(*) from staging_songs')\n",
    "run_query('select count(*) from songplays')\n",
    "run_query('select count(*) from songs')\n",
    "run_query('select count(*) from users')\n",
    "run_query('select count(*) from artists')\n",
    "run_query('select count(*) from time')"
   ]
  },
  {
   "cell_type": "code",
   "execution_count": 9,
   "metadata": {},
   "outputs": [
    {
     "name": "stdout",
     "output_type": "stream",
     "text": [
      "(333,)\n"
     ]
    }
   ],
   "source": []
  },
  {
   "cell_type": "code",
   "execution_count": null,
   "metadata": {},
   "outputs": [],
   "source": []
  }
 ],
 "metadata": {
  "kernelspec": {
   "display_name": "Python 3",
   "language": "python",
   "name": "python3"
  },
  "language_info": {
   "codemirror_mode": {
    "name": "ipython",
    "version": 3
   },
   "file_extension": ".py",
   "mimetype": "text/x-python",
   "name": "python",
   "nbconvert_exporter": "python",
   "pygments_lexer": "ipython3",
   "version": "3.8.4"
  }
 },
 "nbformat": 4,
 "nbformat_minor": 4
}
