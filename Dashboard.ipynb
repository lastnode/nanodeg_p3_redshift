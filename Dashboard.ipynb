{
 "cells": [
  {
   "cell_type": "code",
   "execution_count": 19,
   "metadata": {},
   "outputs": [],
   "source": [
    "import configparser\n",
    "import psycopg2\n",
    "import time"
   ]
  },
  {
   "cell_type": "code",
   "execution_count": 2,
   "metadata": {},
   "outputs": [],
   "source": [
    "config = configparser.ConfigParser()\n",
    "config.read('dwh.cfg')\n",
    "\n",
    "conn = psycopg2.connect(\"host={} dbname={} user={} password={} port={}\".format(*config['CLUSTER'].values()))\n",
    "cur = conn.cursor()"
   ]
  },
  {
   "cell_type": "code",
   "execution_count": 34,
   "metadata": {},
   "outputs": [],
   "source": [
    "def run_query(query):\n",
    "    time_start = time.time()\n",
    "    cur.execute(query)\n",
    "    conn.commit()\n",
    "    rows = cur.fetchall()\n",
    "    print(\"Query:\", end = \" \")\n",
    "    print(query)\n",
    "    print(\"Result:\", end = \" \")\n",
    "    for row in rows:\n",
    "        print(row)\n",
    "    print(\"Execution time:\", time.time() - time_start, '\\n')"
   ]
  },
  {
   "cell_type": "markdown",
   "metadata": {},
   "source": [
    "## Schema"
   ]
  },
  {
   "cell_type": "code",
   "execution_count": 37,
   "metadata": {},
   "outputs": [
    {
     "name": "stdout",
     "output_type": "stream",
     "text": [
      "Overview of Tables:\n",
      "Query: select count(*) from staging_events\n",
      "Result: (8056,)\n",
      "Execution time: 0.8502557277679443 \n",
      "\n",
      "Query: select count(*) from staging_songs\n",
      "Result: (14896,)\n",
      "Execution time: 0.9737410545349121 \n",
      "\n",
      "Query: select count(*) from songplays\n",
      "Result: (333,)\n",
      "Execution time: 0.921616792678833 \n",
      "\n",
      "Query: select count(*) from songs\n",
      "Result: (14896,)\n",
      "Execution time: 0.920811653137207 \n",
      "\n",
      "Query: select count(*) from users\n",
      "Result: (104,)\n",
      "Execution time: 0.8538589477539062 \n",
      "\n",
      "Query: select count(*) from artists\n",
      "Result: (10025,)\n",
      "Execution time: 0.9892339706420898 \n",
      "\n",
      "Query: select count(*) from time\n",
      "Result: (8023,)\n",
      "Execution time: 0.9215090274810791 \n",
      "\n"
     ]
    }
   ],
   "source": [
    "print(\"Overview of Tables:\")\n",
    "run_query('select count(*) from staging_events')\n",
    "run_query('select count(*) from staging_songs')\n",
    "run_query('select count(*) from songplays')\n",
    "run_query('select count(*) from songs')\n",
    "run_query('select count(*) from users')\n",
    "run_query('select count(*) from artists')\n",
    "run_query('select count(*) from time')"
   ]
  },
  {
   "cell_type": "markdown",
   "metadata": {},
   "source": [
    "### How many songs were started by free vs paid users?"
   ]
  },
  {
   "cell_type": "code",
   "execution_count": 38,
   "metadata": {},
   "outputs": [
    {
     "name": "stdout",
     "output_type": "stream",
     "text": [
      "Query: select count(songplay_id), users.level from songplays inner join users on songplays.user_id = users.user_id group by 2;\n",
      "Result: (276, 'paid')\n",
      "(201, 'free')\n",
      "Execution time: 4.83555006980896 \n",
      "\n"
     ]
    }
   ],
   "source": [
    "run_query('select count(songplay_id), users.level from songplays inner join users on songplays.user_id = users.user_id group by 2;')"
   ]
  },
  {
   "cell_type": "markdown",
   "metadata": {},
   "source": [
    "### Which hour of the day are users starting to play the most songs?"
   ]
  },
  {
   "cell_type": "code",
   "execution_count": 40,
   "metadata": {},
   "outputs": [
    {
     "name": "stdout",
     "output_type": "stream",
     "text": [
      "Query: select hour, count(songplay_id) from songplays inner join time on songplays.start_time = time.start_time group by hour order by 1 desc;\n",
      "Result: (23, 11)\n",
      "(22, 7)\n",
      "(21, 12)\n",
      "(20, 18)\n",
      "(19, 16)\n",
      "(18, 26)\n",
      "(17, 40)\n",
      "(16, 24)\n",
      "(15, 25)\n",
      "(14, 16)\n",
      "(13, 14)\n",
      "(12, 12)\n",
      "(11, 16)\n",
      "(10, 11)\n",
      "(9, 9)\n",
      "(8, 18)\n",
      "(7, 13)\n",
      "(6, 9)\n",
      "(5, 7)\n",
      "(4, 7)\n",
      "(3, 2)\n",
      "(2, 3)\n",
      "(1, 11)\n",
      "(0, 6)\n",
      "Execution time: 1.116760015487671 \n",
      "\n"
     ]
    }
   ],
   "source": [
    "run_query('select hour, count(songplay_id) from songplays inner join time on songplays.start_time = time.start_time group by hour order by 1 desc;')"
   ]
  },
  {
   "cell_type": "markdown",
   "metadata": {},
   "source": [
    "### Which 30 users have started listening to the most songs?"
   ]
  },
  {
   "cell_type": "code",
   "execution_count": 41,
   "metadata": {},
   "outputs": [
    {
     "name": "stdout",
     "output_type": "stream",
     "text": [
      "Query: select user_id, count(songplay_id) from songplays group by user_id order by 2 desc limit 30;\n",
      "Result: (49, 42)\n",
      "(97, 32)\n",
      "(80, 31)\n",
      "(44, 21)\n",
      "(73, 18)\n",
      "(88, 17)\n",
      "(15, 15)\n",
      "(29, 13)\n",
      "(24, 13)\n",
      "(36, 13)\n",
      "(25, 10)\n",
      "(58, 9)\n",
      "(95, 8)\n",
      "(30, 8)\n",
      "(85, 7)\n",
      "(16, 6)\n",
      "(42, 6)\n",
      "(50, 5)\n",
      "(8, 3)\n",
      "(82, 3)\n",
      "(12, 2)\n",
      "(2, 2)\n",
      "(100, 2)\n",
      "(67, 2)\n",
      "(66, 2)\n",
      "(52, 2)\n",
      "(86, 2)\n",
      "(72, 2)\n",
      "(101, 2)\n",
      "(53, 2)\n",
      "Execution time: 4.629016876220703 \n",
      "\n"
     ]
    }
   ],
   "source": [
    "run_query('select user_id, count(songplay_id) from songplays group by user_id order by 2 desc limit 30;')"
   ]
  },
  {
   "cell_type": "markdown",
   "metadata": {},
   "source": [
    "### What are the most popular operating systems among users who have played songs?"
   ]
  },
  {
   "cell_type": "code",
   "execution_count": 43,
   "metadata": {},
   "outputs": [
    {
     "name": "stdout",
     "output_type": "stream",
     "text": [
      "Query: \n",
      "select \n",
      "sum(case when user_agent like '%Windows%' then 1 else 0 end) as windows_sum, \n",
      "sum(case when user_agent like '%Linux%' then 1 else 0 end) as linux_sum, \n",
      "sum(case when user_agent like '%Mac%' then 1 else 0 end) as mac_sum, \n",
      "sum(case when user_agent like '%iPhone%' then 1 else 0 end) as iphone_sum, \n",
      "sum(case when user_agent like '%Android%' then 1 else 0 end) as anrdoid_sum \n",
      "from songplays;\n",
      "\n",
      "Result: (132, 50, 151, 10, 0)\n",
      "Execution time: 1.096177101135254 \n",
      "\n"
     ]
    }
   ],
   "source": [
    "run_query(\"\"\"\n",
    "select \n",
    "sum(case when user_agent like '%Windows%' then 1 else 0 end) as windows_sum, \n",
    "sum(case when user_agent like '%Linux%' then 1 else 0 end) as linux_sum, \n",
    "sum(case when user_agent like '%Mac%' then 1 else 0 end) as mac_sum, \n",
    "sum(case when user_agent like '%iPhone%' then 1 else 0 end) as iphone_sum, \n",
    "sum(case when user_agent like '%Android%' then 1 else 0 end) as anrdoid_sum \n",
    "from songplays;\n",
    "\"\"\")"
   ]
  },
  {
   "cell_type": "code",
   "execution_count": null,
   "metadata": {},
   "outputs": [],
   "source": []
  }
 ],
 "metadata": {
  "kernelspec": {
   "display_name": "Python 3",
   "language": "python",
   "name": "python3"
  },
  "language_info": {
   "codemirror_mode": {
    "name": "ipython",
    "version": 3
   },
   "file_extension": ".py",
   "mimetype": "text/x-python",
   "name": "python",
   "nbconvert_exporter": "python",
   "pygments_lexer": "ipython3",
   "version": "3.8.4"
  }
 },
 "nbformat": 4,
 "nbformat_minor": 4
}
