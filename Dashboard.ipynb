{
 "cells": [
  {
   "cell_type": "markdown",
   "metadata": {},
   "source": [
    "## Sparkify Analytics Dashboard\n",
    "\n",
    "This is a sample analytics dashboard for the fictional Sparkify music streaming service. It uses the `create_connection()` and `run_query()` functions found in the support module `etl_utils.py` to create a connection to the Redshift (Postgres) database and run queries on it. Some example queries can be found below.\n",
    "\n",
    "### Setup\n",
    "Before running any analytics in this notebook, you will need to run `create_tables.py` and `etl.py` from the command line in order to create and populate the staging tables and the final analytic tables. More information on this process and the project as a whole can be found in the `README.md` file in this directory."
   ]
  },
  {
   "cell_type": "code",
   "execution_count": 1,
   "metadata": {},
   "outputs": [],
   "source": [
    "import configparser\n",
    "import psycopg2\n",
    "import time\n",
    "from etl_utils import create_connection, run_query"
   ]
  },
  {
   "cell_type": "code",
   "execution_count": 5,
   "metadata": {},
   "outputs": [],
   "source": [
    "cursor, connection = create_connection(\"dwh.cfg\")"
   ]
  },
  {
   "cell_type": "markdown",
   "metadata": {},
   "source": [
    "## Table Stats"
   ]
  },
  {
   "cell_type": "code",
   "execution_count": 6,
   "metadata": {},
   "outputs": [
    {
     "name": "stdout",
     "output_type": "stream",
     "text": [
      "Overview of Tables:\n",
      "Query: select count(*) from staging_events\n",
      "Result: (8056,)\n",
      "Execution time: 1.181175947189331 \n",
      "\n",
      "Query: select count(*) from staging_songs\n",
      "Result: (14896,)\n",
      "Execution time: 0.8895919322967529 \n",
      "\n",
      "Query: select count(*) from songplays\n",
      "Result: (333,)\n",
      "Execution time: 0.9529008865356445 \n",
      "\n",
      "Query: select count(*) from songs\n",
      "Result: (14896,)\n",
      "Execution time: 0.9189109802246094 \n",
      "\n",
      "Query: select count(*) from users\n",
      "Result: (104,)\n",
      "Execution time: 0.8727443218231201 \n",
      "\n",
      "Query: select count(*) from artists\n",
      "Result: (10025,)\n",
      "Execution time: 0.9699840545654297 \n",
      "\n",
      "Query: select count(*) from time\n",
      "Result: (8023,)\n",
      "Execution time: 0.9299471378326416 \n",
      "\n"
     ]
    }
   ],
   "source": [
    "print(\"Overview of Tables:\")\n",
    "run_query(cursor, connection, 'select count(*) from staging_events')\n",
    "run_query(cursor, connection, 'select count(*) from staging_songs')\n",
    "run_query(cursor, connection, 'select count(*) from songplays')\n",
    "run_query(cursor, connection, 'select count(*) from songs')\n",
    "run_query(cursor, connection, 'select count(*) from users')\n",
    "run_query(cursor, connection, 'select count(*) from artists')\n",
    "run_query(cursor, connection, 'select count(*) from time')"
   ]
  },
  {
   "cell_type": "markdown",
   "metadata": {},
   "source": [
    "## Example Queries"
   ]
  },
  {
   "cell_type": "markdown",
   "metadata": {},
   "source": [
    "### How many songs were started by free vs paid users?"
   ]
  },
  {
   "cell_type": "code",
   "execution_count": 7,
   "metadata": {},
   "outputs": [
    {
     "name": "stdout",
     "output_type": "stream",
     "text": [
      "Query: select count(songplay_id), users.level from songplays inner join users on songplays.user_id = users.user_id group by 2;\n",
      "Result: (201, 'free')\n",
      "(276, 'paid')\n",
      "Execution time: 1.2340350151062012 \n",
      "\n"
     ]
    }
   ],
   "source": [
    "run_query(cursor, connection, 'select count(songplay_id), users.level from songplays inner join users on songplays.user_id = users.user_id group by 2;')"
   ]
  },
  {
   "cell_type": "markdown",
   "metadata": {},
   "source": [
    "### Which hour of the day are users starting to play the most songs?"
   ]
  },
  {
   "cell_type": "code",
   "execution_count": 8,
   "metadata": {},
   "outputs": [
    {
     "name": "stdout",
     "output_type": "stream",
     "text": [
      "Query: select hour, count(songplay_id) from songplays inner join time on songplays.start_time = time.start_time group by hour order by 1 desc;\n",
      "Result: (23, 11)\n",
      "(22, 7)\n",
      "(21, 12)\n",
      "(20, 18)\n",
      "(19, 16)\n",
      "(18, 26)\n",
      "(17, 40)\n",
      "(16, 24)\n",
      "(15, 25)\n",
      "(14, 16)\n",
      "(13, 14)\n",
      "(12, 12)\n",
      "(11, 16)\n",
      "(10, 11)\n",
      "(9, 9)\n",
      "(8, 18)\n",
      "(7, 13)\n",
      "(6, 9)\n",
      "(5, 7)\n",
      "(4, 7)\n",
      "(3, 2)\n",
      "(2, 3)\n",
      "(1, 11)\n",
      "(0, 6)\n",
      "Execution time: 1.22245192527771 \n",
      "\n"
     ]
    }
   ],
   "source": [
    "run_query(cursor, connection, 'select hour, count(songplay_id) from songplays inner join time on songplays.start_time = time.start_time group by hour order by 1 desc;')"
   ]
  },
  {
   "cell_type": "markdown",
   "metadata": {},
   "source": [
    "### Which 30 users have started listening to the most songs?"
   ]
  },
  {
   "cell_type": "code",
   "execution_count": 9,
   "metadata": {},
   "outputs": [
    {
     "name": "stdout",
     "output_type": "stream",
     "text": [
      "Query: select user_id, count(songplay_id) from songplays group by user_id order by 2 desc limit 30;\n",
      "Result: (49, 42)\n",
      "(97, 32)\n",
      "(80, 31)\n",
      "(44, 21)\n",
      "(73, 18)\n",
      "(88, 17)\n",
      "(15, 15)\n",
      "(29, 13)\n",
      "(24, 13)\n",
      "(36, 13)\n",
      "(25, 10)\n",
      "(58, 9)\n",
      "(95, 8)\n",
      "(30, 8)\n",
      "(85, 7)\n",
      "(16, 6)\n",
      "(42, 6)\n",
      "(50, 5)\n",
      "(8, 3)\n",
      "(82, 3)\n",
      "(12, 2)\n",
      "(2, 2)\n",
      "(100, 2)\n",
      "(67, 2)\n",
      "(66, 2)\n",
      "(52, 2)\n",
      "(86, 2)\n",
      "(72, 2)\n",
      "(101, 2)\n",
      "(53, 2)\n",
      "Execution time: 1.036679983139038 \n",
      "\n"
     ]
    }
   ],
   "source": [
    "run_query(cursor, connection, 'select user_id, count(songplay_id) from songplays group by user_id order by 2 desc limit 30;')"
   ]
  },
  {
   "cell_type": "markdown",
   "metadata": {},
   "source": [
    "### What are the most popular operating systems among users who have played songs?"
   ]
  },
  {
   "cell_type": "code",
   "execution_count": 10,
   "metadata": {},
   "outputs": [
    {
     "name": "stdout",
     "output_type": "stream",
     "text": [
      "Query: \n",
      "select \n",
      "sum(case when user_agent like '%Windows%' then 1 else 0 end) as windows_sum, \n",
      "sum(case when user_agent like '%Linux%' then 1 else 0 end) as linux_sum, \n",
      "sum(case when user_agent like '%Mac%' then 1 else 0 end) as mac_sum, \n",
      "sum(case when user_agent like '%iPhone%' then 1 else 0 end) as iphone_sum, \n",
      "sum(case when user_agent like '%Android%' then 1 else 0 end) as anrdoid_sum \n",
      "from songplays;\n",
      "\n",
      "Result: (132, 50, 151, 10, 0)\n",
      "Execution time: 1.1723508834838867 \n",
      "\n"
     ]
    }
   ],
   "source": [
    "run_query(cursor, connection, \"\"\"\n",
    "select \n",
    "sum(case when user_agent like '%Windows%' then 1 else 0 end) as windows_sum, \n",
    "sum(case when user_agent like '%Linux%' then 1 else 0 end) as linux_sum, \n",
    "sum(case when user_agent like '%Mac%' then 1 else 0 end) as mac_sum, \n",
    "sum(case when user_agent like '%iPhone%' then 1 else 0 end) as iphone_sum, \n",
    "sum(case when user_agent like '%Android%' then 1 else 0 end) as anrdoid_sum \n",
    "from songplays;\n",
    "\"\"\")"
   ]
  },
  {
   "cell_type": "markdown",
   "metadata": {},
   "source": [
    "### What are the most popular 90s songs among users?"
   ]
  },
  {
   "cell_type": "code",
   "execution_count": 11,
   "metadata": {},
   "outputs": [
    {
     "name": "stdout",
     "output_type": "stream",
     "text": [
      "Query: \n",
      "select\n",
      "    count(songs.song_id) as count,\n",
      "    songs.title, \n",
      "    songs.year\n",
      "from songplays\n",
      "\n",
      "join songs on songplays.song_id = songs.song_id\n",
      "\n",
      "where songs.year BETWEEN 1990 and 1999\n",
      "\n",
      "group by songs.song_id, songs.title,  songs.year \n",
      "order by count(songs.song_id) desc;\n",
      "\n",
      "Result: (37, \"You're The One\", 1990)\n",
      "(4, 'Mr. Jones', 1991)\n",
      "(3, 'Pienso En Ti', 1995)\n",
      "(2, 'God Smack', 1992)\n",
      "(2, 'Bitter Sweet Symphony', 1997)\n",
      "(2, 'Lovefool', 1996)\n",
      "(2, 'You Get What You Give', 1998)\n",
      "(2, \"Don't Panic\", 1999)\n",
      "(1, 'Macarena', 1993)\n",
      "(1, 'Crazy', 1993)\n",
      "(1, 'Not For You', 1994)\n",
      "(1, 'Atrevido', 1999)\n",
      "(1, 'The Vision', 1997)\n",
      "(1, 'Star Eyes', 1996)\n",
      "(1, 'Paradigm Shift', 1998)\n",
      "(1, 'Tha', 1992)\n",
      "(1, 'A New Hope', 1997)\n",
      "(1, 'Lady', 1990)\n",
      "(1, 'If I Were A Carpenter', 1993)\n",
      "(1, 'It Was A Good Day', 1992)\n",
      "(1, 'Va Bien', 1999)\n",
      "(1, 'Forgotten', 1999)\n",
      "(1, 'Drifting Away', 1996)\n",
      "(1, 'Wax on Tha Belt (Baby G Gets Biz)', 1994)\n",
      "(1, 'The Door', 1997)\n",
      "(1, 'Ben', 1998)\n",
      "(1, \"The Train Kept A Rollin'\", 1991)\n",
      "(1, 'Engel', 1997)\n",
      "(1, 'El Novio Del Olvido', 1997)\n",
      "(1, 'Where The Wild Things Were', 1996)\n",
      "(1, 'Pop Is Dead', 1993)\n",
      "(1, 'Born In Africa', 1996)\n",
      "(1, 'Subterranean Homesick Alien', 1997)\n",
      "(1, 'Enganchate Conmigo', 1991)\n",
      "(1, 'Bury My Heart', 1994)\n",
      "(1, 'Suena (\"Some Day\" end title song \"The Hunchback of Notre Dame\")', 1996)\n",
      "Execution time: 1.024467945098877 \n",
      "\n"
     ]
    }
   ],
   "source": [
    "run_query(cursor, connection,\n",
    "\"\"\"\n",
    "select\n",
    "    count(songs.song_id) as count,\n",
    "    songs.title, \n",
    "    songs.year\n",
    "from songplays\n",
    "\n",
    "join songs on songplays.song_id = songs.song_id\n",
    "\n",
    "where songs.year BETWEEN 1990 and 1999\n",
    "\n",
    "group by songs.song_id, songs.title,  songs.year \n",
    "order by count(songs.song_id) desc;\n",
    "\"\"\")"
   ]
  },
  {
   "cell_type": "code",
   "execution_count": null,
   "metadata": {},
   "outputs": [],
   "source": []
  }
 ],
 "metadata": {
  "kernelspec": {
   "display_name": "Python 3",
   "language": "python",
   "name": "python3"
  },
  "language_info": {
   "codemirror_mode": {
    "name": "ipython",
    "version": 3
   },
   "file_extension": ".py",
   "mimetype": "text/x-python",
   "name": "python",
   "nbconvert_exporter": "python",
   "pygments_lexer": "ipython3",
   "version": "3.8.5"
  }
 },
 "nbformat": 4,
 "nbformat_minor": 4
}
